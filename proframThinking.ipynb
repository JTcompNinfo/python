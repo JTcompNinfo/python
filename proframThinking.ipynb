{
 "cells": [
  {
   "cell_type": "markdown",
   "id": "f13240f9",
   "metadata": {},
   "source": [
    "# Programmatic Thinking"
   ]
  },
  {
   "cell_type": "markdown",
   "id": "b0ac3423",
   "metadata": {},
   "source": [
    " ## 1.1 Arithmetic operators\n",
    " <font color=\"Pink\">Arithmetic operators</font> - Symbols that represent an arithmetic operation. + - / * ** //"
   ]
  },
  {
   "cell_type": "code",
   "execution_count": 1,
   "id": "982178e2",
   "metadata": {},
   "outputs": [
    {
     "data": {
      "text/plain": [
       "42"
      ]
     },
     "execution_count": 1,
     "metadata": {},
     "output_type": "execute_result"
    }
   ],
   "source": [
    "30 + 12"
   ]
  },
  {
   "cell_type": "code",
   "execution_count": 2,
   "id": "aa371358",
   "metadata": {},
   "outputs": [
    {
     "data": {
      "text/plain": [
       "42"
      ]
     },
     "execution_count": 2,
     "metadata": {},
     "output_type": "execute_result"
    }
   ],
   "source": [
    "43 - 1"
   ]
  },
  {
   "cell_type": "code",
   "execution_count": 3,
   "id": "45470c66",
   "metadata": {},
   "outputs": [
    {
     "data": {
      "text/plain": [
       "42"
      ]
     },
     "execution_count": 3,
     "metadata": {},
     "output_type": "execute_result"
    }
   ],
   "source": [
    "6 * 7"
   ]
  },
  {
   "cell_type": "code",
   "execution_count": 4,
   "id": "e077f094",
   "metadata": {},
   "outputs": [
    {
     "data": {
      "text/plain": [
       "42.0"
      ]
     },
     "execution_count": 4,
     "metadata": {},
     "output_type": "execute_result"
    }
   ],
   "source": [
    "84 / 2"
   ]
  },
  {
   "cell_type": "markdown",
   "id": "d9686620",
   "metadata": {},
   "source": [
    "<b>intergers</b> - represents numbers with no fractional or decimal part\n",
    "\n",
    "<b>floating-point numbers</b> - represents intergers and numbers with a decimal point"
   ]
  },
  {
   "cell_type": "code",
   "execution_count": 6,
   "id": "96184b94",
   "metadata": {},
   "outputs": [
    {
     "data": {
      "text/plain": [
       "42"
      ]
     },
     "execution_count": 6,
     "metadata": {},
     "output_type": "execute_result"
    }
   ],
   "source": [
    "84 // 2 # Floor  (Interger Divison) - it divides and only gives you the numbers before the decimal"
   ]
  },
  {
   "cell_type": "code",
   "execution_count": 7,
   "id": "b8b968c0",
   "metadata": {},
   "outputs": [
    {
     "data": {
      "text/plain": [
       "42"
      ]
     },
     "execution_count": 7,
     "metadata": {},
     "output_type": "execute_result"
    }
   ],
   "source": [
    "85 // 2"
   ]
  },
  {
   "cell_type": "code",
   "execution_count": 8,
   "id": "08b4213d",
   "metadata": {},
   "outputs": [
    {
     "data": {
      "text/plain": [
       "49"
      ]
     },
     "execution_count": 8,
     "metadata": {},
     "output_type": "execute_result"
    }
   ],
   "source": [
    "# Ecponents - when you raise a number to a power of another number\n",
    "7 ** 2"
   ]
  },
  {
   "cell_type": "code",
   "execution_count": 9,
   "id": "3369e37f",
   "metadata": {},
   "outputs": [
    {
     "data": {
      "text/plain": [
       "129.64181424216494"
      ]
     },
     "execution_count": 9,
     "metadata": {},
     "output_type": "execute_result"
    }
   ],
   "source": [
    "7 ** 2.5"
   ]
  },
  {
   "cell_type": "code",
   "execution_count": 10,
   "id": "52e6bc22",
   "metadata": {},
   "outputs": [],
   "source": [
    "# 7 ^ 2 - in some languages you use a caret for exponents"
   ]
  },
  {
   "cell_type": "markdown",
   "id": "09ee9cff",
   "metadata": {},
   "source": [
    "## 1.2 Expressions"
   ]
  },
  {
   "cell_type": "markdown",
   "id": "07e792ff",
   "metadata": {},
   "source": [
    "<b>Expression</b> - A collection of operators and numbers"
   ]
  },
  {
   "cell_type": "code",
   "execution_count": 11,
   "id": "6dd64468",
   "metadata": {},
   "outputs": [
    {
     "data": {
      "text/plain": [
       "42"
      ]
     },
     "execution_count": 11,
     "metadata": {},
     "output_type": "execute_result"
    }
   ],
   "source": [
    "6 + 6 ** 2"
   ]
  },
  {
   "cell_type": "code",
   "execution_count": 12,
   "id": "53fd6588",
   "metadata": {},
   "outputs": [
    {
     "data": {
      "text/plain": [
       "42"
      ]
     },
     "execution_count": 12,
     "metadata": {},
     "output_type": "execute_result"
    }
   ],
   "source": [
    "12 + 5 *6"
   ]
  },
  {
   "cell_type": "code",
   "execution_count": 13,
   "id": "27c515e8",
   "metadata": {},
   "outputs": [
    {
     "data": {
      "text/plain": [
       "102"
      ]
     },
     "execution_count": 13,
     "metadata": {},
     "output_type": "execute_result"
    }
   ],
   "source": [
    "(12 + 5) * 6"
   ]
  },
  {
   "cell_type": "markdown",
   "id": "7ce3c5eb",
   "metadata": {},
   "source": [
    "## 1.3 Arithmitic functions"
   ]
  },
  {
   "cell_type": "code",
   "execution_count": 14,
   "id": "cc72a36b",
   "metadata": {},
   "outputs": [
    {
     "data": {
      "text/plain": [
       "42"
      ]
     },
     "execution_count": 14,
     "metadata": {},
     "output_type": "execute_result"
    }
   ],
   "source": [
    "round(42.) # round the number in the parenthesis"
   ]
  },
  {
   "cell_type": "code",
   "execution_count": 15,
   "id": "29bf04c6",
   "metadata": {},
   "outputs": [
    {
     "data": {
      "text/plain": [
       "42"
      ]
     },
     "execution_count": 15,
     "metadata": {},
     "output_type": "execute_result"
    }
   ],
   "source": [
    "round(41.6)"
   ]
  },
  {
   "cell_type": "code",
   "execution_count": 16,
   "id": "8a1ac803",
   "metadata": {},
   "outputs": [
    {
     "data": {
      "text/plain": [
       "42"
      ]
     },
     "execution_count": 16,
     "metadata": {},
     "output_type": "execute_result"
    }
   ],
   "source": [
    "round(41.5)"
   ]
  },
  {
   "cell_type": "code",
   "execution_count": 17,
   "id": "acfe5bd4",
   "metadata": {},
   "outputs": [
    {
     "data": {
      "text/plain": [
       "42"
      ]
     },
     "execution_count": 17,
     "metadata": {},
     "output_type": "execute_result"
    }
   ],
   "source": [
    "# the abs finction - computes the absolute value of a number\n",
    "abs(42)"
   ]
  },
  {
   "cell_type": "code",
   "execution_count": 18,
   "id": "e5fae4f1",
   "metadata": {},
   "outputs": [
    {
     "data": {
      "text/plain": [
       "42"
      ]
     },
     "execution_count": 18,
     "metadata": {},
     "output_type": "execute_result"
    }
   ],
   "source": [
    "abs(-42)"
   ]
  },
  {
   "cell_type": "code",
   "execution_count": 19,
   "id": "67d3ff6c",
   "metadata": {},
   "outputs": [
    {
     "ename": "SyntaxError",
     "evalue": "invalid syntax (816474439.py, line 1)",
     "output_type": "error",
     "traceback": [
      "  \u001b[36mCell\u001b[39m\u001b[36m \u001b[39m\u001b[32mIn[19]\u001b[39m\u001b[32m, line 1\u001b[39m\n\u001b[31m    \u001b[39m\u001b[31mabs 42\u001b[39m\n        ^\n\u001b[31mSyntaxError\u001b[39m\u001b[31m:\u001b[39m invalid syntax\n"
     ]
    }
   ],
   "source": [
    "abs 42"
   ]
  },
  {
   "cell_type": "markdown",
   "id": "79c4e454",
   "metadata": {},
   "source": [
    "## 1.4 Strings\n",
    "\n",
    "<b>Strings</b> - In Python or in  any other programming language, sttrings represent a sequence of characters contained in quotes (either single or double)."
   ]
  },
  {
   "cell_type": "code",
   "execution_count": 20,
   "id": "2670483f",
   "metadata": {},
   "outputs": [
    {
     "data": {
      "text/plain": [
       "'hello'"
      ]
     },
     "execution_count": 20,
     "metadata": {},
     "output_type": "execute_result"
    }
   ],
   "source": [
    "'hello'"
   ]
  },
  {
   "cell_type": "code",
   "execution_count": 21,
   "id": "86061a6a",
   "metadata": {},
   "outputs": [
    {
     "data": {
      "text/plain": [
       "'Hai  :3'"
      ]
     },
     "execution_count": 21,
     "metadata": {},
     "output_type": "execute_result"
    }
   ],
   "source": [
    "\"Hai  :3\""
   ]
  },
  {
   "cell_type": "code",
   "execution_count": 22,
   "id": "5531828d",
   "metadata": {},
   "outputs": [
    {
     "ename": "SyntaxError",
     "evalue": "unterminated string literal (detected at line 1) (4057749901.py, line 1)",
     "output_type": "error",
     "traceback": [
      "  \u001b[36mCell\u001b[39m\u001b[36m \u001b[39m\u001b[32mIn[22]\u001b[39m\u001b[32m, line 1\u001b[39m\n\u001b[31m    \u001b[39m\u001b[31m\"Loser'\u001b[39m\n    ^\n\u001b[31mSyntaxError\u001b[39m\u001b[31m:\u001b[39m unterminated string literal (detected at line 1)\n"
     ]
    }
   ],
   "source": [
    "\"Loser'"
   ]
  },
  {
   "cell_type": "code",
   "execution_count": 23,
   "id": "415e4ebd",
   "metadata": {},
   "outputs": [
    {
     "data": {
      "text/plain": [
       "\"it's a small world\""
      ]
     },
     "execution_count": 23,
     "metadata": {},
     "output_type": "execute_result"
    }
   ],
   "source": [
    "\"it's a small world\""
   ]
  },
  {
   "cell_type": "code",
   "execution_count": 24,
   "id": "079b4683",
   "metadata": {},
   "outputs": [
    {
     "data": {
      "text/plain": [
       "\"It's a small world\""
      ]
     },
     "execution_count": 24,
     "metadata": {},
     "output_type": "execute_result"
    }
   ],
   "source": [
    "'It\\'s a small world'"
   ]
  },
  {
   "cell_type": "markdown",
   "id": "dedfdfab",
   "metadata": {},
   "source": [
    "### + operator with strings:\n",
    "\n",
    "<b>Concatination</b> - taking multiple strings and putting them together"
   ]
  },
  {
   "cell_type": "code",
   "execution_count": 25,
   "id": "b4babea7",
   "metadata": {},
   "outputs": [
    {
     "data": {
      "text/plain": [
       "\"Well, it's a small world.\""
      ]
     },
     "execution_count": 25,
     "metadata": {},
     "output_type": "execute_result"
    }
   ],
   "source": [
    "'Well, ' + \"it's a small \" + 'world.'"
   ]
  },
  {
   "cell_type": "markdown",
   "id": "0c1c8298",
   "metadata": {},
   "source": [
    "### * operator with strings\n",
    "- it makes multiple copies of a string and concatinates them togrther"
   ]
  },
  {
   "cell_type": "code",
   "execution_count": 26,
   "id": "ac8f5c86",
   "metadata": {},
   "outputs": [
    {
     "data": {
      "text/plain": [
       "'Spam, Spam, Spam, Spam, '"
      ]
     },
     "execution_count": 26,
     "metadata": {},
     "output_type": "execute_result"
    }
   ],
   "source": [
    "\"Spam, \" * 4"
   ]
  },
  {
   "cell_type": "markdown",
   "id": "031116d5",
   "metadata": {},
   "source": [
    "### String functions"
   ]
  },
  {
   "cell_type": "code",
   "execution_count": 27,
   "id": "a005b934",
   "metadata": {},
   "outputs": [
    {
     "data": {
      "text/plain": [
       "4"
      ]
     },
     "execution_count": 27,
     "metadata": {},
     "output_type": "execute_result"
    }
   ],
   "source": [
    "len('Spam') # the length of the string"
   ]
  },
  {
   "cell_type": "code",
   "execution_count": 28,
   "id": "1c701c4a",
   "metadata": {},
   "outputs": [
    {
     "ename": "SyntaxError",
     "evalue": "invalid syntax (3321520974.py, line 1)",
     "output_type": "error",
     "traceback": [
      "  \u001b[36mCell\u001b[39m\u001b[36m \u001b[39m\u001b[32mIn[28]\u001b[39m\u001b[32m, line 1\u001b[39m\n\u001b[31m    \u001b[39m\u001b[31m`Hello`\u001b[39m\n    ^\n\u001b[31mSyntaxError\u001b[39m\u001b[31m:\u001b[39m invalid syntax\n"
     ]
    }
   ],
   "source": [
    "`Hello`"
   ]
  },
  {
   "cell_type": "markdown",
   "id": "8d60fdf9",
   "metadata": {},
   "source": [
    "## 1.5 Values and Types\n",
    "\n",
    "Multiple types of data:\n",
    "* Intergers\n",
    "* Floats\n",
    "* Strings\n",
    "* Boolean\n",
    "* NULL\n",
    "\n",
    "<b>Type</b> - What kind of value is the data we are using. Values can belong to a type of data."
   ]
  },
  {
   "cell_type": "code",
   "execution_count": 1,
   "id": "416b835b",
   "metadata": {},
   "outputs": [
    {
     "data": {
      "text/plain": [
       "int"
      ]
     },
     "execution_count": 1,
     "metadata": {},
     "output_type": "execute_result"
    }
   ],
   "source": [
    "# Python type function\n",
    "\n",
    "type(2)"
   ]
  },
  {
   "cell_type": "code",
   "execution_count": 2,
   "id": "d98fb6e1",
   "metadata": {},
   "outputs": [
    {
     "data": {
      "text/plain": [
       "float"
      ]
     },
     "execution_count": 2,
     "metadata": {},
     "output_type": "execute_result"
    }
   ],
   "source": [
    "type(2.4)"
   ]
  },
  {
   "cell_type": "code",
   "execution_count": 3,
   "id": "61ad4ca4",
   "metadata": {},
   "outputs": [
    {
     "data": {
      "text/plain": [
       "bool"
      ]
     },
     "execution_count": 3,
     "metadata": {},
     "output_type": "execute_result"
    }
   ],
   "source": [
    "type(True)"
   ]
  },
  {
   "cell_type": "code",
   "execution_count": 4,
   "id": "e491a30a",
   "metadata": {},
   "outputs": [
    {
     "data": {
      "text/plain": [
       "str"
      ]
     },
     "execution_count": 4,
     "metadata": {},
     "output_type": "execute_result"
    }
   ],
   "source": [
    "type(\"Elijah's hairt cut sucks\")"
   ]
  },
  {
   "cell_type": "code",
   "execution_count": 5,
   "id": "a1c7c163",
   "metadata": {},
   "outputs": [
    {
     "data": {
      "text/plain": [
       "42"
      ]
     },
     "execution_count": 5,
     "metadata": {},
     "output_type": "execute_result"
    }
   ],
   "source": [
    "int(42.9)"
   ]
  },
  {
   "cell_type": "code",
   "execution_count": 6,
   "id": "dff931f7",
   "metadata": {},
   "outputs": [
    {
     "data": {
      "text/plain": [
       "42.0"
      ]
     },
     "execution_count": 6,
     "metadata": {},
     "output_type": "execute_result"
    }
   ],
   "source": [
    "float(42)"
   ]
  },
  {
   "cell_type": "code",
   "execution_count": 7,
   "id": "bd79c721",
   "metadata": {},
   "outputs": [
    {
     "data": {
      "text/plain": [
       "'42'"
      ]
     },
     "execution_count": 7,
     "metadata": {},
     "output_type": "execute_result"
    }
   ],
   "source": [
    "str(42)"
   ]
  },
  {
   "cell_type": "code",
   "execution_count": 8,
   "id": "bb673700",
   "metadata": {},
   "outputs": [
    {
     "ename": "TypeError",
     "evalue": "unsupported operand type(s) for /: 'str' and 'int'",
     "output_type": "error",
     "traceback": [
      "\u001b[31m---------------------------------------------------------------------------\u001b[39m",
      "\u001b[31mTypeError\u001b[39m                                 Traceback (most recent call last)",
      "\u001b[36mCell\u001b[39m\u001b[36m \u001b[39m\u001b[32mIn[8]\u001b[39m\u001b[32m, line 1\u001b[39m\n\u001b[32m----> \u001b[39m\u001b[32m1\u001b[39m \u001b[33;43m\"\u001b[39;49m\u001b[33;43m126\u001b[39;49m\u001b[33;43m\"\u001b[39;49m\u001b[43m \u001b[49m\u001b[43m/\u001b[49m\u001b[43m \u001b[49m\u001b[32;43m3\u001b[39;49m\n",
      "\u001b[31mTypeError\u001b[39m: unsupported operand type(s) for /: 'str' and 'int'"
     ]
    }
   ],
   "source": [
    "\"126\" / 3"
   ]
  },
  {
   "cell_type": "code",
   "execution_count": 9,
   "id": "91c297ba",
   "metadata": {},
   "outputs": [
    {
     "data": {
      "text/plain": [
       "42.0"
      ]
     },
     "execution_count": 9,
     "metadata": {},
     "output_type": "execute_result"
    }
   ],
   "source": [
    "int('126') / 3"
   ]
  },
  {
   "cell_type": "code",
   "execution_count": null,
   "id": "e33aff3e",
   "metadata": {},
   "outputs": [
    {
     "ename": "TypeError",
     "evalue": "unsupported operand type(s) for -: 'int' and 'str'",
     "output_type": "error",
     "traceback": [
      "\u001b[31m---------------------------------------------------------------------------\u001b[39m",
      "\u001b[31mTypeError\u001b[39m                                 Traceback (most recent call last)",
      "\u001b[36mCell\u001b[39m\u001b[36m \u001b[39m\u001b[32mIn[10]\u001b[39m\u001b[32m, line 2\u001b[39m\n\u001b[32m      1\u001b[39m age = \u001b[38;5;28minput\u001b[39m(\u001b[33m\"\u001b[39m\u001b[33mPlease enter your age: \u001b[39m\u001b[33m\"\u001b[39m)\n\u001b[32m----> \u001b[39m\u001b[32m2\u001b[39m birthyear = \u001b[32;43m2025\u001b[39;49m\u001b[43m \u001b[49m\u001b[43m-\u001b[49m\u001b[43m \u001b[49m\u001b[43mage\u001b[49m\n\u001b[32m      3\u001b[39m \u001b[38;5;28mprint\u001b[39m(birthyear)\n",
      "\u001b[31mTypeError\u001b[39m: unsupported operand type(s) for -: 'int' and 'str'"
     ]
    }
   ],
   "source": [
    "age = input(\"Please enter your age: \")\n",
    "# all data collected from an input is a string\n",
    "\n",
    "birthyear = 2025 - age\n",
    "print(birthyear)"
   ]
  },
  {
   "cell_type": "code",
   "execution_count": 12,
   "id": "c8a4b187",
   "metadata": {},
   "outputs": [
    {
     "name": "stdout",
     "output_type": "stream",
     "text": [
      "2007\n"
     ]
    }
   ],
   "source": [
    "age = int(input(\"Please enter your age: \"))\n",
    "birthyear = 2025 - age\n",
    "print(birthyear)"
   ]
  },
  {
   "cell_type": "code",
   "execution_count": 13,
   "id": "3716bc8c",
   "metadata": {},
   "outputs": [
    {
     "data": {
      "text/plain": [
       "(1, 0, 0)"
      ]
     },
     "execution_count": 13,
     "metadata": {},
     "output_type": "execute_result"
    }
   ],
   "source": [
    "1,000,000"
   ]
  },
  {
   "cell_type": "code",
   "execution_count": 14,
   "id": "1a0ec5f5",
   "metadata": {},
   "outputs": [
    {
     "data": {
      "text/plain": [
       "1024"
      ]
     },
     "execution_count": 14,
     "metadata": {},
     "output_type": "execute_result"
    }
   ],
   "source": [
    "1024"
   ]
  },
  {
   "cell_type": "code",
   "execution_count": 23,
   "id": "a79a4c02",
   "metadata": {},
   "outputs": [
    {
     "data": {
      "text/plain": [
       "42"
      ]
     },
     "execution_count": 23,
     "metadata": {},
     "output_type": "execute_result"
    }
   ],
   "source": [
    "round(42.5)"
   ]
  },
  {
   "cell_type": "markdown",
   "id": "26f490b1",
   "metadata": {},
   "source": [
    "## 1.9.5 Exercise"
   ]
  },
  {
   "cell_type": "markdown",
   "id": "fe645a64",
   "metadata": {},
   "source": [
    "The following questions give you a chance to practice arithmetic expressions.\n",
    "\n",
    "1. How manyseconds are there in 42 minutes 42 seconds?\n",
    "2. How many miles are there in 10 kilometers? HINT: There are 1.61 kilomters in a mile.\n",
    "3. If you ran a 10 kilometer race in 42 minutes 42 seconds what is your avrage pace in seconds per mile?\n",
    "4. What is your avrage pace in minutes and seconds per mile?\n",
    "5. What is your average speed in miles per hour?"
   ]
  },
  {
   "cell_type": "code",
   "execution_count": 37,
   "id": "d043b669",
   "metadata": {},
   "outputs": [
    {
     "name": "stdout",
     "output_type": "stream",
     "text": [
      "2562 seconds in 42 minutes 42 seconds.\n"
     ]
    }
   ],
   "source": [
    "# 1. How manyseconds are there in 42 minutes 42 seconds?\n",
    "\n",
    "seconds = 42 * 60\n",
    "tot_secs = seconds + 42\n",
    "print(str(tot_secs) + \" seconds in 42 minutes 42 seconds.\")"
   ]
  },
  {
   "cell_type": "code",
   "execution_count": 38,
   "id": "e027ed56",
   "metadata": {},
   "outputs": [
    {
     "name": "stdout",
     "output_type": "stream",
     "text": [
      "6.21\n"
     ]
    }
   ],
   "source": [
    "# 2. How many miles are there in 10 kilometers? HINT: There are 1.61 kilomters in a mile.\n",
    "\n",
    "miles = round(10/1.61, 2)\n",
    "\n",
    "print(miles)"
   ]
  },
  {
   "cell_type": "code",
   "execution_count": 39,
   "id": "4e5f6c62",
   "metadata": {},
   "outputs": [
    {
     "name": "stdout",
     "output_type": "stream",
     "text": [
      "412.56 seconds per mile\n"
     ]
    }
   ],
   "source": [
    "# 3. If you ran a 10 kilometer race in 42 minutes 42 seconds what is your avrage pace in seconds per mile?\n",
    "\n",
    "secsPerMile = tot_secs / miles\n",
    "print(round(secsPerMile, 2), \"seconds per mile\")"
   ]
  },
  {
   "cell_type": "code",
   "execution_count": 40,
   "id": "94ce5d41",
   "metadata": {},
   "outputs": [
    {
     "name": "stdout",
     "output_type": "stream",
     "text": [
      "6.88\n"
     ]
    }
   ],
   "source": [
    "# 4. What is your avrage pace in minutes and seconds per mile?\n",
    "avg_pace = secsPerMile / 60\n",
    "print(round(avg_pace, 2))"
   ]
  },
  {
   "cell_type": "code",
   "execution_count": 45,
   "id": "d9c153c4",
   "metadata": {},
   "outputs": [
    {
     "name": "stdout",
     "output_type": "stream",
     "text": [
      "0.11460010735373055\n"
     ]
    }
   ],
   "source": [
    "# 5. What is your average speed in miles per hour?\n",
    "mph = (avg_pace / 60)\n",
    "\n",
    "print(mph)"
   ]
  },
  {
   "cell_type": "code",
   "execution_count": 4,
   "id": "58cf1779",
   "metadata": {},
   "outputs": [
    {
     "ename": "NameError",
     "evalue": "name 'avg_pace' is not defined",
     "output_type": "error",
     "traceback": [
      "\u001b[31m---------------------------------------------------------------------------\u001b[39m",
      "\u001b[31mNameError\u001b[39m                                 Traceback (most recent call last)",
      "\u001b[36mCell\u001b[39m\u001b[36m \u001b[39m\u001b[32mIn[4]\u001b[39m\u001b[32m, line 1\u001b[39m\n\u001b[32m----> \u001b[39m\u001b[32m1\u001b[39m hpm = \u001b[43mavg_pace\u001b[49m / \u001b[32m60\u001b[39m\n\u001b[32m      4\u001b[39m mph = hpm / \u001b[32m60\u001b[39m\n\u001b[32m      5\u001b[39m \u001b[38;5;28mprint\u001b[39m(mph)\n",
      "\u001b[31mNameError\u001b[39m: name 'avg_pace' is not defined"
     ]
    }
   ],
   "source": [
    "hpm = avg_pace / 60\n",
    "\n",
    "\n",
    "mph = hpm / 60\n",
    "print(mph)"
   ]
  },
  {
   "cell_type": "code",
   "execution_count": 10,
   "id": "b5a8fb11",
   "metadata": {},
   "outputs": [
    {
     "name": "stdout",
     "output_type": "stream",
     "text": [
      "8.73\n"
     ]
    }
   ],
   "source": [
    "seconds = 42 * 60\n",
    "tot_secs = seconds + 42\n",
    "miles = round(10/1.61, 2)\n",
    "hours = (tot_secs / 3600)\n",
    "avg_speed = miles / hours\n",
    "\n",
    "print(round(avg_speed, 2))"
   ]
  },
  {
   "cell_type": "code",
   "execution_count": null,
   "id": "ac38fbc9",
   "metadata": {},
   "outputs": [],
   "source": []
  }
 ],
 "metadata": {
  "kernelspec": {
   "display_name": "Python 3",
   "language": "python",
   "name": "python3"
  },
  "language_info": {
   "codemirror_mode": {
    "name": "ipython",
    "version": 3
   },
   "file_extension": ".py",
   "mimetype": "text/x-python",
   "name": "python",
   "nbconvert_exporter": "python",
   "pygments_lexer": "ipython3",
   "version": "3.12.1"
  }
 },
 "nbformat": 4,
 "nbformat_minor": 5
}
