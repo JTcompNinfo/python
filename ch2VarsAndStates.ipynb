{
 "cells": [
  {
   "cell_type": "markdown",
   "id": "94e7097b",
   "metadata": {},
   "source": [
    "# 2. Variables and Statemeants\n"
   ]
  },
  {
   "cell_type": "markdown",
   "id": "995c1e66",
   "metadata": {},
   "source": [
    "## 2.1 Varibales\n",
    "\n",
    "<b>Variable</b> - is a name that refers to a value"
   ]
  },
  {
   "cell_type": "code",
   "execution_count": 5,
   "id": "455753a8",
   "metadata": {},
   "outputs": [],
   "source": [
    "n = 17\n",
    "\n",
    "# n is the nameof my variable\n",
    "# The variable name refers to a space in computer memory that holds value"
   ]
  },
  {
   "cell_type": "markdown",
   "id": "3c2b3605",
   "metadata": {},
   "source": [
    "### Assignment Statement"
   ]
  },
  {
   "cell_type": "markdown",
   "id": "c17b9164",
   "metadata": {},
   "source": [
    "The assignment statement has 3 parts:\n",
    "* the name of the variable\n",
    "* the equal sign --> The assignment operator\n",
    "* an expression to the right of the assignment operator"
   ]
  },
  {
   "cell_type": "code",
   "execution_count": 6,
   "id": "c8bb51a7",
   "metadata": {},
   "outputs": [],
   "source": [
    "pi = 3.141592653589793\n",
    "\n",
    "# our expresion will be a string - still an expresion but a series of characters\n",
    "# contained in quotes\n",
    "message = \"And now for something completely different\""
   ]
  },
  {
   "cell_type": "code",
   "execution_count": 7,
   "id": "0ccdf5b6",
   "metadata": {},
   "outputs": [
    {
     "data": {
      "text/plain": [
       "'And now for something completely different'"
      ]
     },
     "execution_count": 7,
     "metadata": {},
     "output_type": "execute_result"
    }
   ],
   "source": [
    "message"
   ]
  },
  {
   "cell_type": "code",
   "execution_count": 9,
   "id": "c6963a5a",
   "metadata": {},
   "outputs": [
    {
     "data": {
      "text/plain": [
       "17"
      ]
     },
     "execution_count": 9,
     "metadata": {},
     "output_type": "execute_result"
    }
   ],
   "source": [
    "n"
   ]
  },
  {
   "cell_type": "code",
   "execution_count": 10,
   "id": "2d3708ac",
   "metadata": {},
   "outputs": [
    {
     "data": {
      "text/plain": [
       "3.141592653589793"
      ]
     },
     "execution_count": 10,
     "metadata": {},
     "output_type": "execute_result"
    }
   ],
   "source": [
    "pi"
   ]
  },
  {
   "cell_type": "code",
   "execution_count": 11,
   "id": "d4b7221e",
   "metadata": {},
   "outputs": [
    {
     "data": {
      "text/plain": [
       "42"
      ]
     },
     "execution_count": 11,
     "metadata": {},
     "output_type": "execute_result"
    }
   ],
   "source": [
    "n + 25"
   ]
  },
  {
   "cell_type": "code",
   "execution_count": 12,
   "id": "6edd1f2d",
   "metadata": {},
   "outputs": [
    {
     "data": {
      "text/plain": [
       "6.283185307179586"
      ]
     },
     "execution_count": 12,
     "metadata": {},
     "output_type": "execute_result"
    }
   ],
   "source": [
    "2 * pi"
   ]
  },
  {
   "cell_type": "code",
   "execution_count": 13,
   "id": "deca8aad",
   "metadata": {},
   "outputs": [
    {
     "data": {
      "text/plain": [
       "3"
      ]
     },
     "execution_count": 13,
     "metadata": {},
     "output_type": "execute_result"
    }
   ],
   "source": [
    "round(pi)"
   ]
  },
  {
   "cell_type": "code",
   "execution_count": 14,
   "id": "b4fde047",
   "metadata": {},
   "outputs": [
    {
     "data": {
      "text/plain": [
       "42"
      ]
     },
     "execution_count": 14,
     "metadata": {},
     "output_type": "execute_result"
    }
   ],
   "source": [
    "len(message)"
   ]
  },
  {
   "attachments": {
    "image.png": {
     "image/png": "[encoded data removed]"
    }
   },
   "cell_type": "markdown",
   "id": "b0964a44",
   "metadata": {},
   "source": [
    "## 2.2 State Diagrams\n",
    "\n",
    "State Diagram- it shows what state each of the variables is in \n",
    "\n",
    "\n",
    "![image.png](attachment:image.png)"
   ]
  },
  {
   "cell_type": "markdown",
   "id": "1427221e",
   "metadata": {},
   "source": [
    "## 2.3 Variable names"
   ]
  },
  {
   "cell_type": "markdown",
   "id": "d7e242f4",
   "metadata": {},
   "source": [
    "There is rules to namiing variables\n",
    "- the only puncuattion that can apperar in a variable name in Oython is _\n",
    "- You can not start a variable name with a number\n",
    "- You can ot use python keywords as a variable name\n",
    "\n",
    "### Example variable names\n",
    "* your_name\n",
    "* yourName\n",
    "* YourName\n",
    "* mph\n",
    "* x\n",
    "\n",
    "### Bad variable names"
   ]
  },
  {
   "cell_type": "code",
   "execution_count": 15,
   "id": "ca7026c1",
   "metadata": {},
   "outputs": [
    {
     "ename": "SyntaxError",
     "evalue": "invalid syntax (347180775.py, line 1)",
     "output_type": "error",
     "traceback": [
      "  \u001b[36mCell\u001b[39m\u001b[36m \u001b[39m\u001b[32mIn[15]\u001b[39m\u001b[32m, line 1\u001b[39m\n\u001b[31m    \u001b[39m\u001b[31mmillion! = 1000000\u001b[39m\n           ^\n\u001b[31mSyntaxError\u001b[39m\u001b[31m:\u001b[39m invalid syntax\n"
     ]
    }
   ],
   "source": [
    "million! = 1000000"
   ]
  },
  {
   "cell_type": "code",
   "execution_count": 16,
   "id": "37b18cb4",
   "metadata": {},
   "outputs": [
    {
     "ename": "SyntaxError",
     "evalue": "invalid decimal literal (3381618747.py, line 1)",
     "output_type": "error",
     "traceback": [
      "  \u001b[36mCell\u001b[39m\u001b[36m \u001b[39m\u001b[32mIn[16]\u001b[39m\u001b[32m, line 1\u001b[39m\n\u001b[31m    \u001b[39m\u001b[31m76trombones = 'big parade'\u001b[39m\n     ^\n\u001b[31mSyntaxError\u001b[39m\u001b[31m:\u001b[39m invalid decimal literal\n"
     ]
    }
   ],
   "source": [
    "76trombones = 'big parade'"
   ]
  },
  {
   "cell_type": "code",
   "execution_count": 17,
   "id": "e0b99b28",
   "metadata": {},
   "outputs": [
    {
     "ename": "SyntaxError",
     "evalue": "invalid syntax (323677460.py, line 1)",
     "output_type": "error",
     "traceback": [
      "  \u001b[36mCell\u001b[39m\u001b[36m \u001b[39m\u001b[32mIn[17]\u001b[39m\u001b[32m, line 1\u001b[39m\n\u001b[31m    \u001b[39m\u001b[31mclass = 'Self-Defence Against Fresh Fruit'\u001b[39m\n          ^\n\u001b[31mSyntaxError\u001b[39m\u001b[31m:\u001b[39m invalid syntax\n"
     ]
    }
   ],
   "source": [
    "class = 'Self-Defence Against Fresh Fruit'\n"
   ]
  },
  {
   "cell_type": "code",
   "execution_count": null,
   "id": "658a6609",
   "metadata": {},
   "outputs": [],
   "source": [
    "#print = \"abcdefghijklmnopqrstuvwxyz\""
   ]
  },
  {
   "cell_type": "code",
   "execution_count": 19,
   "id": "cdebc4db",
   "metadata": {},
   "outputs": [
    {
     "data": {
      "text/plain": [
       "'abcdefghijklmnopqrstuvwxyz'"
      ]
     },
     "execution_count": 19,
     "metadata": {},
     "output_type": "execute_result"
    }
   ],
   "source": [
    "print\n"
   ]
  },
  {
   "cell_type": "code",
   "execution_count": 20,
   "id": "57061dd8",
   "metadata": {},
   "outputs": [
    {
     "ename": "SyntaxError",
     "evalue": "cannot assign to True (176824411.py, line 1)",
     "output_type": "error",
     "traceback": [
      "  \u001b[36mCell\u001b[39m\u001b[36m \u001b[39m\u001b[32mIn[20]\u001b[39m\u001b[32m, line 1\u001b[39m\n\u001b[31m    \u001b[39m\u001b[31mTrue = \"zyxwvutsrqponmlkjihgfedcba\"\u001b[39m\n    ^\n\u001b[31mSyntaxError\u001b[39m\u001b[31m:\u001b[39m cannot assign to True\n"
     ]
    }
   ],
   "source": [
    "True = \"zyxwvutsrqponmlkjihgfedcba\""
   ]
  },
  {
   "cell_type": "markdown",
   "id": "3ea3dc54",
   "metadata": {},
   "source": [
    "# 2.4 The import Statement\n",
    "\n"
   ]
  },
  {
   "cell_type": "code",
   "execution_count": 1,
   "id": "cfbc44f9",
   "metadata": {},
   "outputs": [],
   "source": [
    "import math"
   ]
  },
  {
   "cell_type": "code",
   "execution_count": 2,
   "id": "01cb56f5",
   "metadata": {},
   "outputs": [
    {
     "data": {
      "text/plain": [
       "3.141592653589793"
      ]
     },
     "execution_count": 2,
     "metadata": {},
     "output_type": "execute_result"
    }
   ],
   "source": [
    "math.pi"
   ]
  },
  {
   "cell_type": "code",
   "execution_count": 3,
   "id": "9da45952",
   "metadata": {},
   "outputs": [
    {
     "data": {
      "text/plain": [
       "5.0"
      ]
     },
     "execution_count": 3,
     "metadata": {},
     "output_type": "execute_result"
    }
   ],
   "source": [
    "math.sqrt(25)"
   ]
  },
  {
   "cell_type": "code",
   "execution_count": 4,
   "id": "fdd148f5",
   "metadata": {},
   "outputs": [
    {
     "data": {
      "text/plain": [
       "25.0"
      ]
     },
     "execution_count": 4,
     "metadata": {},
     "output_type": "execute_result"
    }
   ],
   "source": [
    "math.pow(5, 2)"
   ]
  },
  {
   "cell_type": "markdown",
   "id": "5c8732f3",
   "metadata": {},
   "source": [
    "# 2.5 Expresios and statements"
   ]
  },
  {
   "cell_type": "code",
   "execution_count": 21,
   "id": "4e2a3097",
   "metadata": {},
   "outputs": [
    {
     "data": {
      "text/plain": [
       "42"
      ]
     },
     "execution_count": 21,
     "metadata": {},
     "output_type": "execute_result"
    }
   ],
   "source": [
    "19 + n + round(math.pi) * 2"
   ]
  },
  {
   "cell_type": "markdown",
   "id": "3f8e3eaf",
   "metadata": {},
   "source": [
    "<b>Statement</b> - is a unit of code that has an effect, but no value. For example, \n",
    "assignment statement --> n = 17 - creates a variable and gives it value but the statement itself has no value"
   ]
  },
  {
   "cell_type": "markdown",
   "id": "ec582f59",
   "metadata": {},
   "source": [
    "# 2.6 The print function"
   ]
  },
  {
   "cell_type": "markdown",
   "id": "06610732",
   "metadata": {},
   "source": [
    "The print() function is one of Python's primmary output functions."
   ]
  },
  {
   "cell_type": "code",
   "execution_count": 24,
   "id": "7fc62f01",
   "metadata": {},
   "outputs": [
    {
     "data": {
      "text/plain": [
       "18"
      ]
     },
     "execution_count": 24,
     "metadata": {},
     "output_type": "execute_result"
    }
   ],
   "source": [
    "n + 1"
   ]
  },
  {
   "cell_type": "code",
   "execution_count": 25,
   "id": "e8984980",
   "metadata": {},
   "outputs": [
    {
     "data": {
      "text/plain": [
       "20"
      ]
     },
     "execution_count": 25,
     "metadata": {},
     "output_type": "execute_result"
    }
   ],
   "source": [
    "n + 2\n",
    "n + 3"
   ]
  },
  {
   "cell_type": "code",
   "execution_count": 32,
   "id": "bbd02be1",
   "metadata": {},
   "outputs": [
    {
     "ename": "TypeError",
     "evalue": "'str' object is not callable",
     "output_type": "error",
     "traceback": [
      "\u001b[31m---------------------------------------------------------------------------\u001b[39m",
      "\u001b[31mTypeError\u001b[39m                                 Traceback (most recent call last)",
      "\u001b[36mCell\u001b[39m\u001b[36m \u001b[39m\u001b[32mIn[32]\u001b[39m\u001b[32m, line 1\u001b[39m\n\u001b[32m----> \u001b[39m\u001b[32m1\u001b[39m \u001b[38;5;28;43mprint\u001b[39;49m\u001b[43m(\u001b[49m\u001b[43mn\u001b[49m\u001b[43m \u001b[49m\u001b[43m+\u001b[49m\u001b[43m \u001b[49m\u001b[32;43m3\u001b[39;49m\u001b[43m)\u001b[49m\n\u001b[32m      2\u001b[39m \u001b[38;5;28mprint\u001b[39m(n + \u001b[32m2\u001b[39m)\n",
      "\u001b[31mTypeError\u001b[39m: 'str' object is not callable"
     ]
    }
   ],
   "source": [
    "print(n + 3)\n",
    "print(n + 2)"
   ]
  },
  {
   "cell_type": "markdown",
   "id": "9634b816",
   "metadata": {},
   "source": [
    "# 2.7 Arguments"
   ]
  },
  {
   "cell_type": "markdown",
   "id": "4100dbae",
   "metadata": {},
   "source": [
    "<b>Argments</b> - When you call a function, the expression that is places inside the parathesis is called an argument.\n",
    "\n",
    "* It is only called an argument when the function is being called.\n",
    "* When a function is being defined, we call the exprssion(s)indside the parebthesis is called a Paranater"
   ]
  },
  {
   "cell_type": "code",
   "execution_count": 33,
   "id": "940e65c7",
   "metadata": {},
   "outputs": [
    {
     "data": {
      "text/plain": [
       "101"
      ]
     },
     "execution_count": 33,
     "metadata": {},
     "output_type": "execute_result"
    }
   ],
   "source": [
    "int('101')"
   ]
  },
  {
   "cell_type": "code",
   "execution_count": 34,
   "id": "93735b2a",
   "metadata": {},
   "outputs": [
    {
     "ename": "TypeError",
     "evalue": "'str' object is not callable",
     "output_type": "error",
     "traceback": [
      "\u001b[31m---------------------------------------------------------------------------\u001b[39m",
      "\u001b[31mTypeError\u001b[39m                                 Traceback (most recent call last)",
      "\u001b[36mCell\u001b[39m\u001b[36m \u001b[39m\u001b[32mIn[34]\u001b[39m\u001b[32m, line 2\u001b[39m\n\u001b[32m      1\u001b[39m num = \u001b[33m'\u001b[39m\u001b[33m101\u001b[39m\u001b[33m'\u001b[39m\n\u001b[32m----> \u001b[39m\u001b[32m2\u001b[39m \u001b[38;5;28;43mprint\u001b[39;49m\u001b[43m(\u001b[49m\u001b[43mnum\u001b[49m\u001b[43m \u001b[49m\u001b[43m*\u001b[49m\u001b[43m \u001b[49m\u001b[32;43m2\u001b[39;49m\u001b[43m)\u001b[49m\n\u001b[32m      3\u001b[39m num - \u001b[38;5;28mint\u001b[39m(num)\n\u001b[32m      4\u001b[39m \u001b[38;5;28mprint\u001b[39m(\u001b[32m2\u001b[39m * num)\n",
      "\u001b[31mTypeError\u001b[39m: 'str' object is not callable"
     ]
    }
   ],
   "source": [
    "num = '101'\n",
    "print(num * 2)\n",
    "num - int(num)\n",
    "print(2 * num)"
   ]
  },
  {
   "cell_type": "code",
   "execution_count": 35,
   "id": "a1c79c94",
   "metadata": {},
   "outputs": [
    {
     "data": {
      "text/plain": [
       "25.0"
      ]
     },
     "execution_count": 35,
     "metadata": {},
     "output_type": "execute_result"
    }
   ],
   "source": [
    "math.pow(5, 2)"
   ]
  },
  {
   "cell_type": "markdown",
   "id": "ca205a90",
   "metadata": {},
   "source": [
    "# 2.8 Comments"
   ]
  },
  {
   "cell_type": "code",
   "execution_count": 36,
   "id": "62871015",
   "metadata": {},
   "outputs": [],
   "source": [
    "#number of seconds in 42:42\n",
    "seconds = 42 * 60 +42"
   ]
  },
  {
   "cell_type": "code",
   "execution_count": null,
   "id": "31653ff4",
   "metadata": {},
   "outputs": [],
   "source": []
  }
 ],
 "metadata": {
  "kernelspec": {
   "display_name": "Python 3",
   "language": "python",
   "name": "python3"
  },
  "language_info": {
   "codemirror_mode": {
    "name": "ipython",
    "version": 3
   },
   "file_extension": ".py",
   "mimetype": "text/x-python",
   "name": "python",
   "nbconvert_exporter": "python",
   "pygments_lexer": "ipython3",
   "version": "3.12.1"
  }
 },
 "nbformat": 4,
 "nbformat_minor": 5
}
